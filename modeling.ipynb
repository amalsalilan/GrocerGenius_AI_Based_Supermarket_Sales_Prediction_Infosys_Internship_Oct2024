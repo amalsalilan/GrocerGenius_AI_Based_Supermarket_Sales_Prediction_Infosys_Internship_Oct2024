{
 "cells": [
  {
   "cell_type": "code",
   "execution_count": 1,
   "metadata": {},
   "outputs": [],
   "source": [
    "# Importing necessary libraries for data manipulation, model training, and evaluation\n",
    "import pandas as pd\n",
    "import numpy as np\n",
    "import matplotlib.pyplot as plt\n",
    "from sklearn.model_selection import train_test_split, GridSearchCV, RandomizedSearchCV\n",
    "from sklearn.linear_model import LinearRegression, Ridge\n",
    "from sklearn.preprocessing import PolynomialFeatures, StandardScaler\n",
    "from sklearn.tree import DecisionTreeRegressor\n",
    "from sklearn.ensemble import RandomForestRegressor\n",
    "from sklearn.svm import SVR\n",
    "from sklearn.neighbors import KNeighborsRegressor\n",
    "from sklearn.pipeline import make_pipeline\n",
    "from sklearn.metrics import r2_score, mean_squared_error\n",
    "from xgboost import XGBRegressor\n",
    "from scipy.stats import uniform, randint"
   ]
  },
  {
   "cell_type": "code",
   "execution_count": 2,
   "metadata": {},
   "outputs": [],
   "source": [
    "# loading the dataset\n",
    "data = pd.read_csv('C:\\\\Users\\\\Kamlesh P Panchal\\\\Documents\\\\Infosys Internship\\\\df_cleaned.csv')\n",
    "\n",
    "# Separating features (X) and target variable (y)\n",
    "X = data.drop('Item_Outlet_Sales', axis=1)  # Features\n",
    "y = data['Item_Outlet_Sales']  # Target"
   ]
  },
  {
   "cell_type": "code",
   "execution_count": 3,
   "metadata": {},
   "outputs": [],
   "source": [
    "# Splitting the data into training and test sets (80% train, 20% test)\n",
    "x_train, x_test, y_train, y_test = train_test_split(X, y, test_size=0.2, random_state=42)"
   ]
  },
  {
   "cell_type": "code",
   "execution_count": 4,
   "metadata": {},
   "outputs": [],
   "source": [
    "# Using RandomForestRegressor to determine feature importance\n",
    "feature_selector = RandomForestRegressor(n_estimators=100, random_state=42)\n",
    "feature_selector.fit(x_train, y_train)\n",
    "\n",
    "# Selecting the top 10 important features based on feature importance scores\n",
    "feature_importances = pd.Series(feature_selector.feature_importances_, index=X.columns)\n",
    "top_features = feature_importances.nlargest(10).index\n",
    "X_top = X[top_features]\n",
    "\n",
    "x_train, x_test = x_train[top_features], x_test[top_features]"
   ]
  },
  {
   "cell_type": "code",
   "execution_count": 5,
   "metadata": {},
   "outputs": [
    {
     "name": "stdout",
     "output_type": "stream",
     "text": [
      "\n",
      "--- Linear Regression ---\n",
      "Mean Test R2: 0.6664272965631864\n",
      "Standard Deviation of Test R2: 0.01972832295244786\n",
      "\n",
      "--- Polynomial Regression ---\n",
      "Mean Test R2: 0.8011683974708419\n",
      "Standard Deviation of Test R2: 0.015009877006474142\n",
      "\n",
      "--- Decision Tree ---\n",
      "Mean Test R2: 0.7032205455317186\n",
      "Standard Deviation of Test R2: 0.021751015956905314\n",
      "\n",
      "--- Random Forest ---\n",
      "Mean Test R2: 0.8381877351586609\n",
      "Standard Deviation of Test R2: 0.01383966421615623\n",
      "\n",
      "--- Support Vector Regression ---\n",
      "Mean Test R2: 0.6233821535046883\n",
      "Standard Deviation of Test R2: 0.026276932195337388\n",
      "\n",
      "--- KNN Regression ---\n",
      "Mean Test R2: 0.7757399742115415\n",
      "Standard Deviation of Test R2: 0.01488070680529318\n",
      "\n",
      "--- XGBoost Regression ---\n",
      "Mean Test R2: 0.826875330012936\n",
      "Standard Deviation of Test R2: 0.014134670306631663\n"
     ]
    }
   ],
   "source": [
    "# Defining multiple regression models for evaluation\n",
    "models = {\n",
    "    \"Linear Regression\": LinearRegression(),\n",
    "    \"Polynomial Regression\": make_pipeline(PolynomialFeatures(degree=2), LinearRegression()),\n",
    "    \"Decision Tree\": DecisionTreeRegressor(random_state=2),\n",
    "    \"Random Forest\": RandomForestRegressor(n_estimators=100, random_state=42),\n",
    "    \"Support Vector Regression\": make_pipeline(StandardScaler(), SVR(kernel='linear')),\n",
    "    \"KNN Regression\": KNeighborsRegressor(n_neighbors=5),\n",
    "    \"XGBoost Regression\": XGBRegressor(n_estimators=100, learning_rate=0.1, max_depth=3, verbosity=0),\n",
    "}\n",
    "\n",
    "# Setting up to perform repeated train-test splits for model stability\n",
    "n_runs = 10\n",
    "results = {}\n",
    "\n",
    "# Loop for each model evaluation\n",
    "for model_name, model in models.items():\n",
    "    test_r2_scores = []\n",
    "    \n",
    "    # Repeating train-test split for stability in R² scores\n",
    "    for i in range(n_runs):\n",
    "        x_train, x_test, y_train, y_test = train_test_split(X_top, y, test_size=0.2, random_state=i)\n",
    "        \n",
    "        model.fit(x_train, y_train)\n",
    "        y_test_pred = model.predict(x_test)\n",
    "       \n",
    "        test_r2 = r2_score(y_test, y_test_pred)\n",
    "        test_r2_scores.append(test_r2)\n",
    "    \n",
    "    mean_r2 = np.mean(test_r2_scores)\n",
    "    std_dev_r2 = np.std(test_r2_scores)\n",
    "    \n",
    "    results[model_name] = {\n",
    "        \"Mean Test R2\": mean_r2,\n",
    "        \"Standard Deviation of Test R2\": std_dev_r2\n",
    "    }\n",
    "    \n",
    "    print(f\"\\n--- {model_name} ---\")\n",
    "    print(f\"Mean Test R2: {results[model_name]['Mean Test R2']}\")\n",
    "    print(f\"Standard Deviation of Test R2: {results[model_name]['Standard Deviation of Test R2']}\")\n",
    "\n"
   ]
  },
  {
   "cell_type": "code",
   "execution_count": 6,
   "metadata": {},
   "outputs": [
    {
     "name": "stdout",
     "output_type": "stream",
     "text": [
      "\n",
      "Best Model: Random Forest with Mean Test R2: 0.8381877351586609 and Standard Deviation of Test R2: 0.01383966421615623\n"
     ]
    }
   ],
   "source": [
    "# Finding the model with the highest mean R² score and printing it\n",
    "best_model_name = max(results, key=lambda x: results[x]['Mean Test R2'])\n",
    "best_model = models[best_model_name]\n",
    "\n",
    "print(f\"\\nBest Model: {best_model_name} with Mean Test R2: {results[best_model_name]['Mean Test R2']} and Standard Deviation of Test R2: {results[best_model_name]['Standard Deviation of Test R2']}\")\n"
   ]
  },
  {
   "cell_type": "code",
   "execution_count": 7,
   "metadata": {},
   "outputs": [],
   "source": [
    "# Setting up hyperparameter tuning for Random Forest and XGBoost using GridSearchCV\n",
    "\n",
    "param_grid_rf = {\n",
    "    'n_estimators': [50, 100, 200],\n",
    "    'max_depth': [None, 10, 20, 30],\n",
    "    'min_samples_split': [2, 5, 10],\n",
    "    'min_samples_leaf': [1, 2, 4]\n",
    "}\n",
    "\n",
    "param_grid_xgb = {\n",
    "    'n_estimators': [100, 200, 300],\n",
    "    'max_depth': [3, 5, 7],\n",
    "    'learning_rate': [0.01, 0.1, 0.2],\n",
    "    'subsample': [0.8, 0.9, 1.0]\n",
    "}"
   ]
  },
  {
   "cell_type": "code",
   "execution_count": 8,
   "metadata": {},
   "outputs": [],
   "source": [
    "rf_model = RandomForestRegressor(random_state=42)\n",
    "xgb_model = XGBRegressor(objective='reg:squarederror', random_state=42)"
   ]
  },
  {
   "cell_type": "code",
   "execution_count": 9,
   "metadata": {},
   "outputs": [],
   "source": [
    "grid_search_rf = GridSearchCV(estimator=rf_model, param_grid=param_grid_rf, scoring='r2', cv=3, n_jobs=-1)\n",
    "grid_search_xgb = GridSearchCV(estimator=xgb_model, param_grid=param_grid_xgb, scoring='r2', cv=3, n_jobs=-1)"
   ]
  },
  {
   "cell_type": "code",
   "execution_count": 10,
   "metadata": {},
   "outputs": [],
   "source": [
    "# Applying GridSearchCV for optimal hyperparameter tuning on Random Forest and XGBoost\n",
    "grid_search_rf.fit(x_train, y_train)\n",
    "best_rf_model = grid_search_rf.best_estimator_\n",
    "best_rf_params = grid_search_rf.best_params_\n",
    "\n",
    "grid_search_xgb.fit(x_train, y_train)\n",
    "best_xgb_model = grid_search_xgb.best_estimator_\n",
    "best_xgb_params = grid_search_xgb.best_params_"
   ]
  },
  {
   "cell_type": "code",
   "execution_count": 11,
   "metadata": {},
   "outputs": [],
   "source": [
    "y_pred_rf = best_rf_model.predict(x_test)\n",
    "y_pred_xgb = best_xgb_model.predict(x_test)"
   ]
  },
  {
   "cell_type": "code",
   "execution_count": 12,
   "metadata": {},
   "outputs": [
    {
     "name": "stdout",
     "output_type": "stream",
     "text": [
      "\n",
      "--- Evaluation on Test Set ---\n",
      "Random Forest Best Model - Mean Squared Error: 0.1651910701284352, R²: 0.8349780564605953\n",
      "XGBoost Best Model - Mean Squared Error: 0.16473588246512955, R²: 0.8354327780918279\n"
     ]
    }
   ],
   "source": [
    "\n",
    "mse_rf = mean_squared_error(y_test, y_pred_rf)\n",
    "mse_xgb = mean_squared_error(y_test, y_pred_xgb)\n",
    "r2_rf = r2_score(y_test, y_pred_rf)\n",
    "r2_xgb = r2_score(y_test, y_pred_xgb)\n",
    "\n",
    "print(\"\\n--- Evaluation on Test Set ---\")\n",
    "print(f\"Random Forest Best Model - Mean Squared Error: {mse_rf}, R²: {r2_rf}\")\n",
    "print(f\"XGBoost Best Model - Mean Squared Error: {mse_xgb}, R²: {r2_xgb}\")"
   ]
  }
 ],
 "metadata": {
  "kernelspec": {
   "display_name": "Python 3",
   "language": "python",
   "name": "python3"
  },
  "language_info": {
   "codemirror_mode": {
    "name": "ipython",
    "version": 3
   },
   "file_extension": ".py",
   "mimetype": "text/x-python",
   "name": "python",
   "nbconvert_exporter": "python",
   "pygments_lexer": "ipython3",
   "version": "3.9.13"
  }
 },
 "nbformat": 4,
 "nbformat_minor": 2
}
