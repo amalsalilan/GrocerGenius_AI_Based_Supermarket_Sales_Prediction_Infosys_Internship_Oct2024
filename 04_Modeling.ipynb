{
 "cells": [
  {
   "cell_type": "code",
   "execution_count": 1,
   "id": "faa6532c",
   "metadata": {},
   "outputs": [],
   "source": [
    "# Importing necessary libraries for data manipulation, model training, and evaluation\n",
    "import pandas as pd\n",
    "import numpy as np\n",
    "import matplotlib.pyplot as plt\n",
    "from sklearn.model_selection import train_test_split, GridSearchCV, RandomizedSearchCV\n",
    "from sklearn.linear_model import LinearRegression, Ridge\n",
    "from sklearn.preprocessing import PolynomialFeatures, StandardScaler\n",
    "from sklearn.tree import DecisionTreeRegressor\n",
    "from sklearn.ensemble import RandomForestRegressor\n",
    "from sklearn.svm import SVR\n",
    "from sklearn.neighbors import KNeighborsRegressor\n",
    "from sklearn.pipeline import make_pipeline\n",
    "from sklearn.metrics import r2_score, mean_squared_error\n",
    "from xgboost import XGBRegressor\n",
    "from scipy.stats import uniform, randint"
   ]
  },
  {
   "cell_type": "code",
   "execution_count": 2,
   "id": "50258a5c",
   "metadata": {},
   "outputs": [
    {
     "name": "stdout",
     "output_type": "stream",
     "text": [
      "   Item_Fat_Content_Regular  Item_Type_Breads  Item_Type_Breakfast  \\\n",
      "0                       0.0               0.0                  0.0   \n",
      "1                       1.0               0.0                  0.0   \n",
      "2                       0.0               0.0                  0.0   \n",
      "3                       1.0               0.0                  0.0   \n",
      "4                       0.0               0.0                  0.0   \n",
      "\n",
      "   Item_Type_Canned  Item_Type_Dairy  Item_Type_Frozen Foods  \\\n",
      "0               0.0              1.0                     0.0   \n",
      "1               0.0              0.0                     0.0   \n",
      "2               0.0              0.0                     0.0   \n",
      "3               0.0              0.0                     0.0   \n",
      "4               0.0              0.0                     0.0   \n",
      "\n",
      "   Item_Type_Fruits and Vegetables  Item_Type_Hard Drinks  \\\n",
      "0                              0.0                    0.0   \n",
      "1                              0.0                    0.0   \n",
      "2                              0.0                    0.0   \n",
      "3                              1.0                    0.0   \n",
      "4                              0.0                    0.0   \n",
      "\n",
      "   Item_Type_Health and Hygiene  Item_Type_Household  ...  Item_Weight  \\\n",
      "0                           0.0                  0.0  ...    -0.828408   \n",
      "1                           0.0                  0.0  ...    -1.625364   \n",
      "2                           0.0                  0.0  ...     1.105037   \n",
      "3                           0.0                  0.0  ...     1.505873   \n",
      "4                           0.0                  1.0  ...    -0.915649   \n",
      "\n",
      "   Item_Visibility  Item_MRP  Outlet_Establishment_Year  Item_Outlet_Sales  \\\n",
      "0        -1.098896  1.747454                   0.139541           0.910601   \n",
      "1        -1.032720 -1.489023                   1.334103          -1.018440   \n",
      "2        -1.084297  0.010040                   0.139541          -0.049238   \n",
      "3        -0.243868  0.660050                   0.020085          -0.849103   \n",
      "4        -0.243868 -1.399220                  -1.293934          -0.695373   \n",
      "\n",
      "   Outlet_Age  Item_Weight_zscore  Item_Visibility_zscore  Item_MRP_zscore  \\\n",
      "0   -0.139541            0.828359                1.098832         1.747351   \n",
      "1   -1.334103            1.625269                1.032659         1.488936   \n",
      "2   -0.139541            1.104972                1.084233         0.010040   \n",
      "3   -0.020085            1.505785                0.243854         0.660011   \n",
      "4    1.293934            0.915595                0.243854         1.399138   \n",
      "\n",
      "   Item_Outlet_Sales_zscore  \n",
      "0                  0.910548  \n",
      "1                  1.018381  \n",
      "2                  0.049235  \n",
      "3                  0.849053  \n",
      "4                  0.695332  \n",
      "\n",
      "[5 rows x 32 columns]\n"
     ]
    }
   ],
   "source": [
    "# Load the CSV file\n",
    "df_processed = pd.read_csv('df_cleaned.csv')\n",
    "\n",
    "# Verify that the data loaded correctly\n",
    "print(df_processed.head())\n"
   ]
  },
  {
   "cell_type": "code",
   "execution_count": 3,
   "id": "0d510660",
   "metadata": {},
   "outputs": [],
   "source": [
    "# Separating features (X) and target variable (y)\n",
    "X = df_processed.drop('Item_Outlet_Sales', axis=1)  # Features\n",
    "y = df_processed['Item_Outlet_Sales']  # Target"
   ]
  },
  {
   "cell_type": "code",
   "execution_count": 4,
   "id": "a355f1c6",
   "metadata": {},
   "outputs": [],
   "source": [
    "# Splitting the data into training and test sets (80% train, 20% test)\n",
    "x_train, x_test, y_train, y_test = train_test_split(X, y, test_size=0.2, random_state=42)"
   ]
  },
  {
   "cell_type": "code",
   "execution_count": 5,
   "id": "1b6bb09f",
   "metadata": {},
   "outputs": [],
   "source": [
    "# Using RandomForestRegressor to determine feature importance\n",
    "feature_selector = RandomForestRegressor(n_estimators=100, random_state=42)\n",
    "feature_selector.fit(x_train, y_train)\n",
    "\n",
    "# Selecting the top 10 important features based on feature importance scores\n",
    "feature_importances = pd.Series(feature_selector.feature_importances_, index=X.columns)\n",
    "top_features = feature_importances.nlargest(10).index\n",
    "X_top = X[top_features]\n",
    "\n",
    "x_train, x_test = x_train[top_features], x_test[top_features]"
   ]
  },
  {
   "cell_type": "code",
   "execution_count": 6,
   "id": "a6798c7c",
   "metadata": {},
   "outputs": [
    {
     "name": "stdout",
     "output_type": "stream",
     "text": [
      "\n",
      "--- Linear Regression ---\n",
      "Mean Test R2: 0.6875082023184321\n",
      "Standard Deviation of Test R2: 0.018257196067445077\n",
      "\n",
      "--- Polynomial Regression ---\n",
      "Mean Test R2: 0.8244922235467511\n",
      "Standard Deviation of Test R2: 0.017198904906456484\n",
      "\n",
      "--- Decision Tree ---\n",
      "Mean Test R2: 0.7803167245588302\n",
      "Standard Deviation of Test R2: 0.020503712494689543\n",
      "\n",
      "--- Random Forest ---\n",
      "Mean Test R2: 0.879117440432801\n",
      "Standard Deviation of Test R2: 0.010174340297516016\n",
      "\n",
      "--- Support Vector Regression ---\n",
      "Mean Test R2: 0.6684668333284747\n",
      "Standard Deviation of Test R2: 0.02243539608859824\n",
      "\n",
      "--- KNN Regression ---\n",
      "Mean Test R2: 0.8282371037682331\n",
      "Standard Deviation of Test R2: 0.015544817137465288\n",
      "\n",
      "--- XGBoost Regression ---\n",
      "Mean Test R2: 0.8662096634280386\n",
      "Standard Deviation of Test R2: 0.010390493178880118\n"
     ]
    }
   ],
   "source": [
    "# Defining multiple regression models for evaluation\n",
    "models = {\n",
    "    \"Linear Regression\": LinearRegression(),\n",
    "    \"Polynomial Regression\": make_pipeline(PolynomialFeatures(degree=2), LinearRegression()),\n",
    "    \"Decision Tree\": DecisionTreeRegressor(random_state=2),\n",
    "    \"Random Forest\": RandomForestRegressor(n_estimators=100, random_state=42),\n",
    "    \"Support Vector Regression\": make_pipeline(StandardScaler(), SVR(kernel='linear')),\n",
    "    \"KNN Regression\": KNeighborsRegressor(n_neighbors=5),\n",
    "    \"XGBoost Regression\": XGBRegressor(n_estimators=100, learning_rate=0.1, max_depth=3, verbosity=0),\n",
    "}\n",
    "\n",
    "# Setting up to perform repeated train-test splits for model stability\n",
    "n_runs = 10\n",
    "results = {}\n",
    "\n",
    "# Loop for each model evaluation\n",
    "for model_name, model in models.items():\n",
    "    test_r2_scores = []\n",
    "    \n",
    "    # Repeating train-test split for stability in R² scores\n",
    "    for i in range(n_runs):\n",
    "        x_train, x_test, y_train, y_test = train_test_split(X_top, y, test_size=0.2, random_state=i)\n",
    "        \n",
    "        model.fit(x_train, y_train)\n",
    "        y_test_pred = model.predict(x_test)\n",
    "       \n",
    "        test_r2 = r2_score(y_test, y_test_pred)\n",
    "        test_r2_scores.append(test_r2)\n",
    "    \n",
    "    mean_r2 = np.mean(test_r2_scores)\n",
    "    std_dev_r2 = np.std(test_r2_scores)\n",
    "    \n",
    "    results[model_name] = {\n",
    "        \"Mean Test R2\": mean_r2,\n",
    "        \"Standard Deviation of Test R2\": std_dev_r2\n",
    "    }\n",
    "    \n",
    "    print(f\"\\n--- {model_name} ---\")\n",
    "    print(f\"Mean Test R2: {results[model_name]['Mean Test R2']}\")\n",
    "    print(f\"Standard Deviation of Test R2: {results[model_name]['Standard Deviation of Test R2']}\")"
   ]
  },
  {
   "cell_type": "code",
   "execution_count": 7,
   "id": "2483f5ed",
   "metadata": {},
   "outputs": [],
   "source": [
    "#Hyperparameter tuning \n",
    "param_grid_rf = {\n",
    "    'n_estimators': [50, 100, 200],\n",
    "    'max_depth': [None, 10, 20, 30],\n",
    "    'min_samples_split': [2, 5, 10],\n",
    "    'min_samples_leaf': [1, 2, 4]\n",
    "}\n"
   ]
  },
  {
   "cell_type": "code",
   "execution_count": 8,
   "id": "1da06dfd",
   "metadata": {},
   "outputs": [],
   "source": [
    "rf = RandomForestRegressor(random_state=42)"
   ]
  },
  {
   "cell_type": "code",
   "execution_count": 11,
   "id": "fba0969d",
   "metadata": {},
   "outputs": [],
   "source": [
    "grid_search_rf = GridSearchCV(estimator=rf, param_grid=param_grid_rf, scoring='r2', cv=3, n_jobs=-1)\n",
    "\n",
    "\n",
    "grid_search_rf.fit(x_train, y_train)\n",
    "best_rf_model = grid_search_rf.best_estimator_\n",
    "best_rf_params = grid_search_rf.best_params_"
   ]
  },
  {
   "cell_type": "code",
   "execution_count": 13,
   "id": "ebcd9e18",
   "metadata": {},
   "outputs": [
    {
     "name": "stdout",
     "output_type": "stream",
     "text": [
      "Random Forest -  R²: 0.8751764171779072 , Mean Squared Error: 0.12372554338197045\n",
      "\n",
      "--- Best Hyperparameters ---\n",
      "Random Forest: {'max_depth': 10, 'min_samples_leaf': 2, 'min_samples_split': 2, 'n_estimators': 100}\n"
     ]
    }
   ],
   "source": [
    "y_pred_rf = best_rf_model.predict(x_test)\n",
    "mse_rf = mean_squared_error(y_test, y_pred_rf)\n",
    "r2_rf = r2_score(y_test, y_pred_rf)\n",
    "\n",
    "print(f\"Random Forest -  R²: {r2_rf} , Mean Squared Error: {mse_rf}\")\n",
    "\n",
    "# Printing the best hyperparameters for both models\n",
    "print(\"\\n--- Best Hyperparameters ---\")\n",
    "print(f\"Random Forest: {best_rf_params}\")"
   ]
  },
  {
   "cell_type": "code",
   "execution_count": null,
   "id": "60b56d9d",
   "metadata": {},
   "outputs": [],
   "source": []
  },
  {
   "cell_type": "code",
   "execution_count": null,
   "id": "d874b54d",
   "metadata": {},
   "outputs": [],
   "source": []
  }
 ],
 "metadata": {
  "kernelspec": {
   "display_name": "Python 3 (ipykernel)",
   "language": "python",
   "name": "python3"
  },
  "language_info": {
   "codemirror_mode": {
    "name": "ipython",
    "version": 3
   },
   "file_extension": ".py",
   "mimetype": "text/x-python",
   "name": "python",
   "nbconvert_exporter": "python",
   "pygments_lexer": "ipython3",
   "version": "3.10.9"
  }
 },
 "nbformat": 4,
 "nbformat_minor": 5
}
