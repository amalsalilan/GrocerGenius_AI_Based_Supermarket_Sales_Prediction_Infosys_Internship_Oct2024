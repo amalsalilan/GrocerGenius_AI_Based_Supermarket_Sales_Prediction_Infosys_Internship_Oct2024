{
 "cells": [
  {
   "cell_type": "code",
   "execution_count": 5,
   "id": "faa6532c",
   "metadata": {},
   "outputs": [],
   "source": [
    "import pandas as pd\n",
    "import numpy as np\n",
    "import matplotlib.pyplot as plt\n",
    "from sklearn.model_selection import train_test_split, GridSearchCV, RandomizedSearchCV\n",
    "from sklearn.linear_model import LinearRegression,Ridge,Lasso\n",
    "from sklearn.preprocessing import PolynomialFeatures, StandardScaler\n",
    "from sklearn.tree import DecisionTreeRegressor\n",
    "from sklearn.ensemble import RandomForestRegressor\n",
    "from sklearn.svm import SVR\n",
    "from sklearn.neighbors import KNeighborsRegressor\n",
    "from sklearn.model_selection import cross_val_score,train_test_split\n",
    "from sklearn.metrics import r2_score, mean_absolute_error, mean_squared_error\n",
    "from sklearn.pipeline import make_pipeline\n",
    "from xgboost import XGBRegressor\n",
    "from scipy.stats import uniform, randint"
   ]
  },
  {
   "cell_type": "code",
   "execution_count": 6,
   "id": "50258a5c",
   "metadata": {},
   "outputs": [
    {
     "name": "stdout",
     "output_type": "stream",
     "text": [
      "   Item_Fat_Content_Regular  Item_Type_Breads  Item_Type_Breakfast  \\\n",
      "0                       0.0               0.0                  0.0   \n",
      "1                       1.0               0.0                  0.0   \n",
      "2                       0.0               0.0                  0.0   \n",
      "3                       1.0               0.0                  0.0   \n",
      "4                       0.0               0.0                  0.0   \n",
      "\n",
      "   Item_Type_Canned  Item_Type_Dairy  Item_Type_Frozen Foods  \\\n",
      "0               0.0              1.0                     0.0   \n",
      "1               0.0              0.0                     0.0   \n",
      "2               0.0              0.0                     0.0   \n",
      "3               0.0              0.0                     0.0   \n",
      "4               0.0              0.0                     0.0   \n",
      "\n",
      "   Item_Type_Fruits and Vegetables  Item_Type_Hard Drinks  \\\n",
      "0                              0.0                    0.0   \n",
      "1                              0.0                    0.0   \n",
      "2                              0.0                    0.0   \n",
      "3                              1.0                    0.0   \n",
      "4                              0.0                    0.0   \n",
      "\n",
      "   Item_Type_Health and Hygiene  Item_Type_Household  ...  Item_Weight  \\\n",
      "0                           0.0                  0.0  ...    -0.828408   \n",
      "1                           0.0                  0.0  ...    -1.625364   \n",
      "2                           0.0                  0.0  ...     1.105037   \n",
      "3                           0.0                  0.0  ...     1.505873   \n",
      "4                           0.0                  1.0  ...    -0.915649   \n",
      "\n",
      "   Item_Visibility  Item_MRP  Outlet_Establishment_Year  Item_Outlet_Sales  \\\n",
      "0        -1.098896  1.747454                   0.139541           0.910601   \n",
      "1        -1.032720 -1.489023                   1.334103          -1.018440   \n",
      "2        -1.084297  0.010040                   0.139541          -0.049238   \n",
      "3        -0.243868  0.660050                   0.020085          -0.849103   \n",
      "4        -0.243868 -1.399220                  -1.293934          -0.695373   \n",
      "\n",
      "   Outlet_Age  Item_Weight_zscore  Item_Visibility_zscore  Item_MRP_zscore  \\\n",
      "0   -0.139541            0.828359                1.098832         1.747351   \n",
      "1   -1.334103            1.625269                1.032659         1.488936   \n",
      "2   -0.139541            1.104972                1.084233         0.010040   \n",
      "3   -0.020085            1.505785                0.243854         0.660011   \n",
      "4    1.293934            0.915595                0.243854         1.399138   \n",
      "\n",
      "   Item_Outlet_Sales_zscore  \n",
      "0                  0.910548  \n",
      "1                  1.018381  \n",
      "2                  0.049235  \n",
      "3                  0.849053  \n",
      "4                  0.695332  \n",
      "\n",
      "[5 rows x 32 columns]\n"
     ]
    }
   ],
   "source": [
    "# Load the CSV file\n",
    "df_processed = pd.read_csv('df_cleaned.csv')\n",
    "\n",
    "# Verify that the data loaded correctly\n",
    "print(df_processed.head())\n"
   ]
  },
  {
   "cell_type": "code",
   "execution_count": 8,
   "id": "a6798c7c",
   "metadata": {},
   "outputs": [
    {
     "name": "stdout",
     "output_type": "stream",
     "text": [
      "Linear Regression: Mean R² = 0.7660, Std Dev = 0.0107\n",
      "Ridge Regression: Mean R² = 0.7660, Std Dev = 0.0107\n",
      "Lasso Regression: Mean R² = 0.4729, Std Dev = 0.0134\n",
      "Random Forest: Mean R² = 0.8729, Std Dev = 0.0068\n",
      "XGBoost: Mean R² = 0.8557, Std Dev = 0.0068\n",
      "\n",
      "Best Model: Random Forest\n"
     ]
    }
   ],
   "source": [
    "# Initialize models with default parameters\n",
    "models = {\n",
    "    \"Linear Regression\": LinearRegression(),\n",
    "    \"Ridge Regression\": Ridge(alpha=1.0, random_state=42),\n",
    "    \"Lasso Regression\": Lasso(alpha=0.1, random_state=42),\n",
    "    \"Random Forest\": RandomForestRegressor(n_estimators=100, random_state=42),\n",
    "    \"XGBoost\": XGBRegressor(objective='reg:squarederror', n_estimators=100, random_state=42)\n",
    "}\n",
    "\n",
    "# Function to evaluate models using cross-validation\n",
    "def evaluate_models(models, X, y):\n",
    "    results = {}\n",
    "    for name, model in models.items():\n",
    "        # Perform 5-fold cross-validation\n",
    "        cv_scores = cross_val_score(model, X, y, cv=5, scoring='r2')\n",
    "        results[name] = {\n",
    "            \"Mean R²\": cv_scores.mean(),\n",
    "            \"Standard Deviation\": cv_scores.std()\n",
    "        }\n",
    "    return results\n",
    "\n",
    "# Evaluate all models on the important features\n",
    "model_results = evaluate_models(models, X_train, y_train)\n",
    "\n",
    "# Display results\n",
    "for model, metrics in model_results.items():\n",
    "    print(f\"{model}: Mean R² = {metrics['Mean R²']:.4f}, Std Dev = {metrics['Standard Deviation']:.4f}\")\n",
    "\n",
    "# Choose the best model based on the highest mean R² score\n",
    "best_model_name = max(model_results, key=lambda x: model_results[x][\"Mean R²\"])\n",
    "print(f\"\\nBest Model: {best_model_name}\")"
   ]
  },
  {
   "cell_type": "code",
   "execution_count": 9,
   "id": "2483f5ed",
   "metadata": {},
   "outputs": [],
   "source": [
    "#Hyperparameter tuning \n",
    "param_grid_rf = {\n",
    "    'n_estimators': [50, 100, 200],\n",
    "    'max_depth': [None, 10, 20, 30],\n",
    "    'min_samples_split': [2, 5, 10],\n",
    "    'min_samples_leaf': [1, 2, 4]\n",
    "}\n"
   ]
  },
  {
   "cell_type": "code",
   "execution_count": 10,
   "id": "1da06dfd",
   "metadata": {},
   "outputs": [],
   "source": [
    "rf = RandomForestRegressor(random_state=42)"
   ]
  },
  {
   "cell_type": "code",
   "execution_count": 11,
   "id": "fba0969d",
   "metadata": {},
   "outputs": [],
   "source": [
    "grid_search_rf = GridSearchCV(\n",
    "    estimator=rf, \n",
    "    param_grid=param_grid_rf, \n",
    "    scoring='r2', cv=3, \n",
    "    n_jobs=-1)\n",
    "\n",
    "grid_search_rf.fit(X_train, y_train)\n",
    "best_rf_model = grid_search_rf.best_estimator_\n",
    "best_rf_params = grid_search_rf.best_params_"
   ]
  },
  {
   "cell_type": "code",
   "execution_count": 12,
   "id": "ebcd9e18",
   "metadata": {},
   "outputs": [],
   "source": [
    "y_pred_rf = best_rf_model.predict(X_test)\n"
   ]
  },
  {
   "cell_type": "code",
   "execution_count": 13,
   "id": "60b56d9d",
   "metadata": {},
   "outputs": [
    {
     "name": "stdout",
     "output_type": "stream",
     "text": [
      "Random Forest Best Model -  R²: 0.8802292268046391 , Mean Squared Error: 0.11179801474309381\n",
      "\n",
      "--- Best Hyperparameters ---\n",
      "Random Forest: {'max_depth': 10, 'min_samples_leaf': 2, 'min_samples_split': 5, 'n_estimators': 200}\n"
     ]
    }
   ],
   "source": [
    "mse_rf = mean_squared_error(y_test, y_pred_rf)\n",
    "r2_rf = r2_score(y_test, y_pred_rf)\n",
    "\n",
    "print(f\"Random Forest Best Model -  R²: {r2_rf} , Mean Squared Error: {mse_rf}\")\n",
    "\n",
    "# Printing the best hyperparameters for both models\n",
    "print(\"\\n--- Best Hyperparameters ---\")\n",
    "print(f\"Random Forest: {best_rf_params}\")"
   ]
  }
 ],
 "metadata": {
  "kernelspec": {
   "display_name": "Python 3 (ipykernel)",
   "language": "python",
   "name": "python3"
  },
  "language_info": {
   "codemirror_mode": {
    "name": "ipython",
    "version": 3
   },
   "file_extension": ".py",
   "mimetype": "text/x-python",
   "name": "python",
   "nbconvert_exporter": "python",
   "pygments_lexer": "ipython3",
   "version": "3.10.9"
  }
 },
 "nbformat": 4,
 "nbformat_minor": 5
}
